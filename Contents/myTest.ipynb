{
 "cells": [
  {
   "cell_type": "markdown",
   "metadata": {},
   "source": [
    "Numpy 矩阵求逆\n",
    "---"
   ]
  },
  {
   "cell_type": "code",
   "execution_count": 3,
   "metadata": {
    "scrolled": true
   },
   "outputs": [
    {
     "name": "stdout",
     "output_type": "stream",
     "text": [
      "[[ 0.  1. -1.  1.]\n",
      " [-1.  1.  0.  0.]\n",
      " [ 0.  0.  0.  1.]\n",
      " [ 1. -1.  1. -1.]]\n"
     ]
    }
   ],
   "source": [
    "import numpy as np\n",
    "\n",
    "A = np.array([[1, 0, 0, 1],\n",
    "              [1, 1, 0, 1],\n",
    "              [0, 1, 1, 1],\n",
    "              [0, 0, 1, 0]])\n",
    "A_T = np.linalg.inv(A)  # 求逆\n",
    "print(A_T)"
   ]
  },
  {
   "cell_type": "markdown",
   "metadata": {},
   "source": [
    "检验合同变换\n",
    "---"
   ]
  },
  {
   "cell_type": "code",
   "execution_count": 4,
   "metadata": {},
   "outputs": [
    {
     "name": "stdout",
     "output_type": "stream",
     "text": [
      "[[ 2.   0.   0. ]\n",
      " [ 0.  -0.5  0. ]\n",
      " [ 0.   0.   6. ]]\n"
     ]
    }
   ],
   "source": [
    "import numpy as np\n",
    "\n",
    "A = np.array([[0,  1,  1],\n",
    "              [1,  0, -3],\n",
    "              [1, -3, 0]])\n",
    "\n",
    "C = np.array([[1, -0.5, 3],\n",
    "              [1, 0.5, -1],\n",
    "              [0,  0,   1]])\n",
    "\n",
    "V = (C.T).dot(A).dot(C)\n",
    "print(V)"
   ]
  },
  {
   "cell_type": "markdown",
   "metadata": {},
   "source": [
    "系数矩阵化为行阶梯最简形\n",
    "---"
   ]
  },
  {
   "cell_type": "code",
   "execution_count": 3,
   "metadata": {},
   "outputs": [
    {
     "name": "stdout",
     "output_type": "stream",
     "text": [
      "(Matrix([\n",
      "[1, 0,   2, 1],\n",
      "[0, 1, 3/2, 2],\n",
      "[0, 0,   0, 0],\n",
      "[0, 0,   0, 0]]), (0, 1))\n"
     ]
    }
   ],
   "source": [
    "from sympy import Matrix\n",
    "\n",
    "A = Matrix([[1,  0,  2,  1], \n",
    "            [-1, 2,  1,  3], \n",
    "            [1,  2,  5,  5],\n",
    "            [2, -2,  1, -2]])\n",
    "\n",
    "print(A.rref())"
   ]
  },
  {
   "cell_type": "markdown",
   "metadata": {},
   "source": [
    "random.shuffle用法\n",
    "---"
   ]
  },
  {
   "cell_type": "code",
   "execution_count": 4,
   "metadata": {},
   "outputs": [
    {
     "name": "stdout",
     "output_type": "stream",
     "text": [
      "[1, 6, 5, 3, 4, 2, 9, 0, 8, 7]\n"
     ]
    }
   ],
   "source": [
    "import random\n",
    "i =list(range(10)) \n",
    "#print(list(range(10)))\n",
    "#print(range(10))\n",
    "\n",
    "random.shuffle(i)\n",
    "print(i)"
   ]
  },
  {
   "cell_type": "markdown",
   "metadata": {},
   "source": [
    "the End\n",
    "---"
   ]
  }
 ],
 "metadata": {
  "kernelspec": {
   "display_name": "Python 3",
   "language": "python",
   "name": "python3"
  },
  "language_info": {
   "codemirror_mode": {
    "name": "ipython",
    "version": 3
   },
   "file_extension": ".py",
   "mimetype": "text/x-python",
   "name": "python",
   "nbconvert_exporter": "python",
   "pygments_lexer": "ipython3",
   "version": "3.6.8"
  }
 },
 "nbformat": 4,
 "nbformat_minor": 4
}
